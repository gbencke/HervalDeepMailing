{
 "cells": [
  {
   "cell_type": "markdown",
   "metadata": {},
   "source": [
    "# Herval Deep Mailing"
   ]
  },
  {
   "cell_type": "code",
   "execution_count": null,
   "metadata": {},
   "outputs": [],
   "source": [
    "import pandas as pd\n",
    "import dateutil.parser as parser\n",
    "import os.path\n",
    "import math\n",
    "import logging\n",
    "import numpy as np\n",
    "from multiprocessing import Pool\n",
    "from datetime import datetime\n",
    "import gc"
   ]
  },
  {
   "cell_type": "code",
   "execution_count": null,
   "metadata": {},
   "outputs": [],
   "source": [
    "log_location = \"../logs/\"\n",
    "arquivo_chamadas = \"../data/inputs/Herval.PRIMEIRA.BASE.xls\"\n",
    "\n",
    "pd.options.display.max_columns = 150\n",
    "pd.set_option('display.height', 1000)\n",
    "pd.set_option('display.max_rows', 5000)\n",
    "pd.set_option('display.max_columns', 5000)\n",
    "pd.set_option('display.width', 10000)\n",
    "pd.set_option('display.expand_frame_repr', False)"
   ]
  },
  {
   "cell_type": "code",
   "execution_count": null,
   "metadata": {},
   "outputs": [],
   "source": [
    "logger = logging.getLogger()\n",
    "logger.handlers = []\n",
    "logger = logging.getLogger(__name__)\n",
    "logging.basicConfig(format=\"%(asctime)-15s %(message)s\",\n",
    "                    level=logging.DEBUG,\n",
    "                    filename=os.path.join(log_location,'prepare_data.log.' + \\\n",
    "                                          datetime.now().strftime(\"%Y%m%d%H%M%S.%f\") + '.log'))"
   ]
  },
  {
   "cell_type": "code",
   "execution_count": null,
   "metadata": {},
   "outputs": [],
   "source": [
    "def limpar_df(pagantes):\n",
    "    del pagantes['CPF']\n",
    "    del pagantes['CPFINT']\n",
    "    del pagantes['STATUS']\n",
    "    del pagantes['NOME_MAE']\n",
    "    del pagantes['NOME_PAI']\n",
    "    del pagantes['NACIONALIDADE']\n",
    "    del pagantes['DATA_NASCIMENTO']\n",
    "    del pagantes['CPF_CONJUGE']\n",
    "    del pagantes['NOME_CONJUGE']\n",
    "    del pagantes['CARGO_CONJUGE']\n",
    "    del pagantes['RELACIONAMENTO']\n",
    "    del pagantes['TELEFONE']\n",
    "    del pagantes['REFERENCIA_PESSOAL_2']\n",
    "    del pagantes['RELACIONAMENTO2']\n",
    "    del pagantes['TELEFONE2']\n",
    "    del pagantes['DATA_DE_NASCIMENTO1']\n",
    "    del pagantes['DATA_NASCIMENTO_CONJUGE']\n",
    "    del pagantes['CARGO']\n",
    "    del pagantes['PROFISSAO']\n",
    "    del pagantes['ENDERECO_BAIRRO']\n",
    "    del pagantes['ENDERECO_CIDADE']\n",
    "    del pagantes['ENDERECO_COMPLEMENTO']\n",
    "    del pagantes['ENDERECO_NUMERO']\n",
    "    del pagantes['ENDERECO_STATUS']\n",
    "    del pagantes['ENDERECO_UF']\n",
    "    del pagantes['EMAIL']\n",
    "    del pagantes['PROCESSOS_JUDICIAIS']\n",
    "    del pagantes['PROCESSOS_ATIVO']\n",
    "    del pagantes['PROCESSOS_PASSIVO']\n",
    "    del pagantes['PROCESSOS_OUTRA_PARTE']\n",
    "    del pagantes['MUNICIPIO_VOTACAO']\n",
    "    del pagantes['UF_VOTACAO']\n",
    "    del pagantes['ENDERECO_COMERCIAL_LOGRADOURO']\n",
    "    del pagantes['ENDERECO_COMERCIAL_NUMERO']\n",
    "    del pagantes['ENDERECO_COMERCIAL_COMPLEMENTO']\n",
    "    del pagantes['ENDERECO_COMERCIAL_BAIRRO']\n",
    "    del pagantes['ENDERECO_COMERCIAL_MUNICIPIO']\n",
    "    del pagantes['ENDERECO_COMERCIAL_UF']\n",
    "    del pagantes['ENDERECO_RESIDENCIAL_LOGRADOURO']\n",
    "    del pagantes['ENDERECO_RESIDENCIAL_NUMERO']\n",
    "    del pagantes['ENDERECO_RESIDENCIAL_COMPLEMENTO']\n",
    "    del pagantes['ENDERECO_RESIDENCIAL_BAIRRO']\n",
    "    del pagantes['ENDERECO_RESIDENCIAL_MUNICIPIO']\n",
    "    del pagantes['ENDERECO_RESIDENCIAL_UF']\n",
    "    del pagantes['SEGURO_DESEMPREGO_HISTORICO']\n",
    "    del pagantes['SEGURO_DESEMPREGO_DATA_PARCELA']\n",
    "    return pagantes"
   ]
  },
  {
   "cell_type": "code",
   "execution_count": null,
   "metadata": {},
   "outputs": [],
   "source": [
    "def func_str(x):\n",
    "    return str(x).replace(\" \",\"_\").upper().strip()\n",
    "\n",
    "def func_strip(x):\n",
    "    return str(x).strip()\n",
    "\n",
    "def func_start_ALTA(x):\n",
    "    return str(x).startswith('ALTA')"
   ]
  },
  {
   "cell_type": "code",
   "execution_count": null,
   "metadata": {},
   "outputs": [],
   "source": [
    "def ConverterPAGOU(x):\n",
    "    return \"1\" if x == 1 else \"0\"\n",
    "def ConverterSimNao(x):\n",
    "    return \"1\" if x == \"Sim\" else \"0\""
   ]
  },
  {
   "cell_type": "code",
   "execution_count": null,
   "metadata": {},
   "outputs": [],
   "source": [
    "converters = { \n",
    "    \"PAGOU\" : ConverterPAGOU,\n",
    "    \"SITUACAO_CPF\": func_str,\n",
    "    \"SEXO\": func_str,\n",
    "    \"ESTABILIDADE_EMPREGO\": func_str,\n",
    "    \"RESTITUICAO_2016\": ConverterSimNao,\n",
    "    \"EMPRESAS_BEM_CAPITAL_PROCESSO_CONTRA\": ConverterSimNao,\n",
    "    \"FALECIMENTO\": ConverterSimNao,\n",
    "    \"SERVIDOR_PUBLICO\": ConverterSimNao,\n",
    "    \"VINCULO_CLT\": ConverterSimNao,\n",
    "    \"BOLSA_FAMILIA\": ConverterSimNao,\n",
    "    \"PGFN\": ConverterSimNao,\n",
    "    \"VEICULOS\": ConverterSimNao,\n",
    "    \"IMOVEIS\": ConverterSimNao,\n",
    "    \"EMPRESA\": ConverterSimNao\n",
    "}\n",
    "\n",
    "df_dtypes= {\n",
    "\n",
    "}"
   ]
  },
  {
   "cell_type": "code",
   "execution_count": null,
   "metadata": {},
   "outputs": [],
   "source": [
    "pagantes = pd.read_excel(arquivo_chamadas, dtype=df_dtypes, converters = converters)\n",
    "logging.debug(\"CSV carregado, limpando colunas desnecessarias\")\n",
    "pagantes = limpar_df(pagantes)\n"
   ]
  },
  {
   "cell_type": "code",
   "execution_count": null,
   "metadata": {},
   "outputs": [],
   "source": [
    "for coluna in pagantes.head(10).columns.values:\n",
    "    print(coluna)           "
   ]
  },
  {
   "cell_type": "code",
   "execution_count": null,
   "metadata": {},
   "outputs": [],
   "source": [
    "print(pagantes.head(10))"
   ]
  },
  {
   "cell_type": "code",
   "execution_count": null,
   "metadata": {},
   "outputs": [],
   "source": [
    "for coluna in pagantes.head(10).columns.values:\n",
    "    print('coluna:' + coluna, pagantes[''+coluna].unique())"
   ]
  },
  {
   "cell_type": "code",
   "execution_count": null,
   "metadata": {},
   "outputs": [],
   "source": [
    "def CreateColumnStr(cols, df, source_col):\n",
    "    for col in cols:\n",
    "        df['NORM_' + source_col + \"_\" + str(col)] = df.apply(lambda row: 1 if func_str(row[source_col]) == func_str(col) else 0, axis=1)\n",
    "    return df\n",
    "\n",
    "def RemoveOutliers(df, source_col, min, max):\n",
    "    df['NORM_' + source_col] = df.apply(lambda row: 0   if row[source_col] < min else row[source_col] , axis=1)\n",
    "    df['NORM_' + source_col] = df.apply(lambda row: max if row[source_col] > max else row[source_col] , axis=1)\n",
    "    return df\n",
    "\n",
    "def CreateProportion(df, source_col):\n",
    "    max = df[source_col].mean() * 8\n",
    "    min = df[source_col].min()\n",
    "    print(\"({}) - {}, {}, {}, {}\".format(source_col, max,min, df[source_col].mean()))\n",
    "    \n",
    "    df = RemoveOutliers(df, source_col, min, max)\n",
    "    \n",
    "    max = df['NORM_' + source_col].max()\n",
    "    min = df['NORM_' + source_col].min()\n",
    "    print(\"({}) - {}, {}\".format(source_col, max,min))\n",
    "    \n",
    "    df['NORM_' + source_col] = df.apply(lambda row: 0 if row['NORM_' + source_col] == 0 else ((row['NORM_' + source_col] - min) / max) , axis=1)\n",
    "    return df"
   ]
  },
  {
   "cell_type": "code",
   "execution_count": null,
   "metadata": {},
   "outputs": [],
   "source": [
    "pagantes = CreateColumnStr(pagantes['PAGOU'].unique(), pagantes, 'PAGOU')\n",
    "pagantes = CreateColumnStr(pagantes['SITUACAO_CPF'].unique(), pagantes, 'SITUACAO_CPF')\n",
    "pagantes = CreateColumnStr(pagantes['FALECIMENTO'].unique(), pagantes, 'FALECIMENTO')\n",
    "pagantes = CreateColumnStr(pagantes['SEXO'].unique(), pagantes, 'SEXO')\n",
    "pagantes = CreateColumnStr(pagantes['ESTABILIDADE_EMPREGO'].unique(), pagantes, 'ESTABILIDADE_EMPREGO')\n",
    "pagantes = CreateColumnStr(pagantes['SERVIDOR_PUBLICO'].unique(), pagantes, 'SERVIDOR_PUBLICO')\n",
    "pagantes = CreateColumnStr(pagantes['VINCULO_CLT'].unique(), pagantes, 'VINCULO_CLT')\n",
    "pagantes = CreateColumnStr(pagantes['BOLSA_FAMILIA'].unique(), pagantes, 'BOLSA_FAMILIA')\n",
    "pagantes = CreateColumnStr(pagantes['PGFN'].unique(), pagantes, 'PGFN')\n",
    "pagantes = CreateColumnStr(pagantes['VEICULOS'].unique(), pagantes, 'VEICULOS')\n",
    "pagantes = CreateColumnStr(pagantes['IMOVEIS'].unique(), pagantes, 'IMOVEIS')\n",
    "pagantes = CreateColumnStr(pagantes['EMPRESA'].unique(), pagantes, 'EMPRESA')\n",
    "pagantes = CreateColumnStr(pagantes['RESTITUICAO_2016'].unique(), pagantes, 'RESTITUICAO_2016')\n",
    "pagantes = CreateColumnStr(pagantes['EMPRESAS_BEM_CAPITAL_PROCESSO_CONTRA'].unique(), pagantes, 'EMPRESAS_BEM_CAPITAL_PROCESSO_CONTRA')\n",
    "\n",
    "pagantes = CreateProportion(pagantes, 'VALOR_DIVIDA')\n",
    "pagantes = CreateProportion(pagantes, 'RENDA_MENSAL_CONJUGE')\n",
    "pagantes = CreateProportion(pagantes, 'SALARIO')\n",
    "pagantes = CreateProportion(pagantes, 'CONTRATO_ATRASO')\n",
    "pagantes = CreateProportion(pagantes, 'IDADE')\n",
    "pagantes = CreateProportion(pagantes, 'PROCESSOS_TOTAL')\n",
    "\n",
    "\n",
    "pagantes.head(100)"
   ]
  },
  {
   "cell_type": "code",
   "execution_count": null,
   "metadata": {},
   "outputs": [],
   "source": []
  },
  {
   "cell_type": "code",
   "execution_count": null,
   "metadata": {},
   "outputs": [],
   "source": []
  }
 ],
 "metadata": {
  "kernelspec": {
   "display_name": "Python 3",
   "language": "python",
   "name": "python3"
  },
  "language_info": {
   "codemirror_mode": {
    "name": "ipython",
    "version": 3
   },
   "file_extension": ".py",
   "mimetype": "text/x-python",
   "name": "python",
   "nbconvert_exporter": "python",
   "pygments_lexer": "ipython3",
   "version": "3.5.2"
  }
 },
 "nbformat": 4,
 "nbformat_minor": 2
}

{
 "cells": [
  {
   "cell_type": "markdown",
   "metadata": {},
   "source": [
    "# Exemplo de utilizacao do Modelo Treinado"
   ]
  },
  {
   "cell_type": "code",
   "execution_count": null,
   "metadata": {},
   "outputs": [],
   "source": [
    "import os \n",
    "from os import listdir\n",
    "from os.path import isfile, join\n",
    "\n",
    "import pandas as pd\n",
    "import xgboost as xgb"
   ]
  },
  {
   "cell_type": "markdown",
   "metadata": {},
   "source": [
    "## Determinacao dos arquivos de dados normalizados e do modelo ja treinado"
   ]
  },
  {
   "cell_type": "code",
   "execution_count": null,
   "metadata": {},
   "outputs": [],
   "source": [
    "if 'HERVAL_DATA_FOLDER' in os.environ:\n",
    "    data_folder = os.environ['HERVAL_DATA_FOLDER']\n",
    "else:\n",
    "    data_folder = \"../../\"\n",
    "\n",
    "cluster = 2\n",
    "log_location = data_folder + \"logs/\"\n",
    "arquivo_pagantes_norm = data_folder + \"data/batch03/intermediate/Herval.normalized.pickle\"\n",
    "\n",
    "model_folder = data_folder + \"data/batch03/model/\"\n",
    "model_files = [f for f in listdir(model_folder) if isfile(join(model_folder, f)) and f.endswith('model')]\n",
    "model_file= model_folder + model_files[0]"
   ]
  },
  {
   "cell_type": "markdown",
   "metadata": {},
   "source": [
    "## Carregamento do dataframe de pandas e tambem selecao do cluster a ser usado."
   ]
  },
  {
   "cell_type": "code",
   "execution_count": null,
   "metadata": {},
   "outputs": [],
   "source": [
    "pagantes = pd.read_pickle(arquivo_pagantes_norm)\n",
    "pagantes = pagantes.query(\"CLUSTER == {}\".format(cluster))\n",
    "pagantes = pagantes.reset_index()"
   ]
  },
  {
   "cell_type": "markdown",
   "metadata": {},
   "source": [
    "## Preparacao do dataframe de caracteristicas e tambem conversao para array de numpy"
   ]
  },
  {
   "cell_type": "code",
   "execution_count": null,
   "metadata": {},
   "outputs": [],
   "source": [
    "pagantes_x = pagantes.loc[:, 'NORM_CLASSE_SOCIAL_A1':'NORM_RENDA_PRESUMIDA']\n",
    "pagantes_x = pagantes.as_matrix()"
   ]
  },
  {
   "cell_type": "markdown",
   "metadata": {},
   "source": [
    "## Criacao de um booster e carga do Modelo"
   ]
  },
  {
   "cell_type": "code",
   "execution_count": null,
   "metadata": {},
   "outputs": [],
   "source": [
    "bst = xgb.Booster()  # init model\n",
    "bst.load_model(model_file)  # load data\n",
    "dtest = xgb.DMatrix(pagantes_x)\n",
    "ypred = bst.predict(dtest)"
   ]
  },
  {
   "cell_type": "markdown",
   "metadata": {},
   "source": [
    "## Preenchimento da probabilidade como uma nova coluna dentro da tabela de pagantes"
   ]
  },
  {
   "cell_type": "code",
   "execution_count": null,
   "metadata": {},
   "outputs": [],
   "source": [
    "pagantes['PROB'] = pagantes.apply(lambda row: ypred[row.name] , axis=1)\n",
    "pagantes = pagantes[['CLUSTER','CPF','PROB']]\n",
    "pagantes.head(8)"
   ]
  }
 ],
 "metadata": {
  "kernelspec": {
   "display_name": "Python 3",
   "language": "python",
   "name": "python3"
  },
  "language_info": {
   "codemirror_mode": {
    "name": "ipython",
    "version": 3
   },
   "file_extension": ".py",
   "mimetype": "text/x-python",
   "name": "python",
   "nbconvert_exporter": "python",
   "pygments_lexer": "ipython3",
   "version": "3.6.4"
  }
 },
 "nbformat": 4,
 "nbformat_minor": 2
}
